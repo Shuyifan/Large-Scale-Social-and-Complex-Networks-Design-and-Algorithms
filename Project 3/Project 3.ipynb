{
 "cells": [
  {
   "cell_type": "markdown",
   "metadata": {},
   "source": [
    "# 1. Reinforcement Learning"
   ]
  },
  {
   "cell_type": "markdown",
   "metadata": {},
   "source": [
    "### 1. Reward function"
   ]
  },
  {
   "cell_type": "markdown",
   "metadata": {},
   "source": [
    "To simplify the project, we will assume that the reward function is independent of the current state (s) and the action that you take at the current state (a). To be specific, reward function only depends on the state that you transition to (s′). With this simplification, we have $$R_{ss'}^a=R(s')$$ In this project, we will learn the optimal policy of an agent for two different reward functions:  \n",
    "&nbsp;• Reward function 1  \n",
    "&nbsp;• Reward function 2  \n",
    "The two different reward functions are displayed in figures 6 and 7 respectively."
   ]
  },
  {
   "cell_type": "markdown",
   "metadata": {},
   "source": [
    "![reward function](./reward_function.png)"
   ]
  },
  {
   "cell_type": "markdown",
   "metadata": {},
   "source": [
    "### Question 1"
   ]
  },
  {
   "cell_type": "markdown",
   "metadata": {},
   "source": [
    "For visualization purpose, generate heat maps of Reward function 1 and Reward function 2. For the heat maps, make sure you display the coloring scale. You will have 2 plots for this question"
   ]
  },
  {
   "cell_type": "code",
   "execution_count": 1,
   "metadata": {},
   "outputs": [],
   "source": [
    "import numpy as np\n",
    "import matplotlib.pyplot as plt"
   ]
  },
  {
   "cell_type": "code",
   "execution_count": 2,
   "metadata": {},
   "outputs": [
    {
     "name": "stdout",
     "output_type": "stream",
     "text": [
      "[[0. 0. 0. 0. 0. 0. 0. 0. 0. 0.]\n",
      " [0. 0. 0. 0. 0. 0. 0. 0. 0. 0.]\n",
      " [0. 0. 0. 0. 0. 0. 0. 0. 0. 0.]\n",
      " [0. 0. 0. 0. 0. 0. 0. 0. 0. 0.]\n",
      " [0. 0. 0. 0. 0. 0. 0. 0. 0. 0.]\n",
      " [0. 0. 0. 0. 0. 0. 0. 0. 0. 0.]\n",
      " [0. 0. 0. 0. 0. 0. 0. 0. 0. 0.]\n",
      " [0. 0. 0. 0. 0. 0. 0. 0. 0. 0.]\n",
      " [0. 0. 0. 0. 0. 0. 0. 0. 0. 0.]\n",
      " [0. 0. 0. 0. 0. 0. 0. 0. 0. 1.]]\n"
     ]
    }
   ],
   "source": [
    "reward_function1 = np.zeros((10, 10))\n",
    "reward_function1[-1][-1] = 1.0\n",
    "print(reward_function1)"
   ]
  },
  {
   "cell_type": "code",
   "execution_count": 3,
   "metadata": {},
   "outputs": [
    {
     "name": "stdout",
     "output_type": "stream",
     "text": [
      "[[   0.    0.    0.    0.    0.    0.    0.    0.    0.    0.]\n",
      " [   0.    0.    0.    0. -100. -100. -100.    0.    0.    0.]\n",
      " [   0.    0.    0.    0. -100.    0. -100.    0.    0.    0.]\n",
      " [   0.    0.    0.    0. -100.    0. -100. -100. -100.    0.]\n",
      " [   0.    0.    0.    0. -100.    0.    0.    0. -100.    0.]\n",
      " [   0.    0.    0.    0. -100.    0.    0.    0. -100.    0.]\n",
      " [   0.    0.    0.    0. -100.    0.    0.    0. -100.    0.]\n",
      " [   0.    0.    0.    0.    0.    0. -100. -100. -100.    0.]\n",
      " [   0.    0.    0.    0.    0.    0. -100.    0.    0.    0.]\n",
      " [   0.    0.    0.    0.    0.    0.    0.    0.    0.   10.]]\n"
     ]
    }
   ],
   "source": [
    "reward_function2 = np.zeros((10, 10))\n",
    "reward_function2[-1][-1] = 10.0\n",
    "reward_function2[1][4:7] = -100.0\n",
    "reward_function2[2][4] = reward_function2[2][6] = -100.0\n",
    "reward_function2[3][4] = reward_function2[3][6:9] = -100.0\n",
    "reward_function2[4][4] = reward_function2[4][8] = -100.0\n",
    "reward_function2[5][4] = reward_function2[5][8] = -100.0\n",
    "reward_function2[6][4] = reward_function2[6][8] = -100.0\n",
    "reward_function2[7][6:9] = -100.0\n",
    "reward_function2[8][6] = -100.0\n",
    "print(reward_function2)"
   ]
  },
  {
   "cell_type": "code",
   "execution_count": 8,
   "metadata": {},
   "outputs": [
    {
     "data": {
      "text/plain": [
       "Text(0.5, 1.0, 'heat map for reward function 1')"
      ]
     },
     "execution_count": 8,
     "metadata": {},
     "output_type": "execute_result"
    },
    {
     "data": {
      "image/png": "[encoded data removed]",
      "text/plain": [
       "<Figure size 432x288 with 2 Axes>"
      ]
     },
     "metadata": {
      "needs_background": "light"
     },
     "output_type": "display_data"
    }
   ],
   "source": [
    "fig = plt.figure()\n",
    "ax = fig.add_subplot(1,1,1)\n",
    "plt.pcolor(reward_function1)\n",
    "plt.gca().invert_yaxis()\n",
    "plt.colorbar()\n",
    "ax.set_title(\"heat map for reward function 1\")"
   ]
  },
  {
   "cell_type": "code",
   "execution_count": 10,
   "metadata": {},
   "outputs": [
    {
     "data": {
      "text/plain": [
       "Text(0.5, 1.0, 'heat map for reward function 2')"
      ]
     },
     "execution_count": 10,
     "metadata": {},
     "output_type": "execute_result"
    },
    {
     "data": {
      "image/png": "[encoded data removed]",
      "text/plain": [
       "<Figure size 432x288 with 2 Axes>"
      ]
     },
     "metadata": {
      "needs_background": "light"
     },
     "output_type": "display_data"
    }
   ],
   "source": [
    "fig = plt.figure()\n",
    "ax = fig.add_subplot(1,1,1)\n",
    "plt.pcolor(reward_function2)\n",
    "plt.gca().invert_yaxis()\n",
    "plt.colorbar()\n",
    "ax.set_title(\"heat map for reward function 2\")"
   ]
  },
  {
   "cell_type": "markdown",
   "metadata": {},
   "source": [
    "### 2. Optimal policy learning using RL algorithms"
   ]
  },
  {
   "cell_type": "markdown",
   "metadata": {},
   "source": [
    "In this part of the project, we will use reinforcement learning (RL) algorithm to find the optimal policy. The main steps in RL algorithm are:  \n",
    "&nbsp;• Find optimal state-value or action-value  \n",
    "&nbsp;• Use the optimal state-value or action-value to determine the deterministic optimal policy  \n",
    "There are a couple of RL algorithms, but we will use the Value iteration algo- rithm since it was discussed in detail in the lecture. We will skip the derivation of the algorithm here because it was covered in the lecture (for the derivation details please refer to the lecture slides on Reinforcement learning). We will just reproduce the algorithm below for the ease of implementation:"
   ]
  },
  {
   "cell_type": "markdown",
   "metadata": {},
   "source": [
    "![value_iteration_algorithm](./value_iteration_algo.png)"
   ]
  },
  {
   "cell_type": "markdown",
   "metadata": {},
   "source": [
    "### Question 2"
   ]
  },
  {
   "cell_type": "markdown",
   "metadata": {},
   "source": [
    "Create the environment of the agent using the information provided in section 2. To be specific, create the MDP by setting up the state-space, action set, transition probabilities, discount factor, and reward function. For creating the environment, use the following set of parameters:"
   ]
  },
  {
   "cell_type": "markdown",
   "metadata": {},
   "source": [
    "• Number of states = 100 (state space is a 10 by 10 square grid as displayed in figure 1)  \n",
    "• Number of actions = 4 (set of possible actions is displayed in figure 2)  \n",
    "• w = 0.1  \n",
    "• Discount factor = 0.8  \n",
    "• Reward function 1  "
   ]
  },
  {
   "cell_type": "markdown",
   "metadata": {},
   "source": [
    "After you have created the environment, then write an optimal state-value function that takes as input the environment of the agent and outputs the optimal value of each state in the grid. For the optimal state-value function, you have to implement the Initialization (lines 2-4) and Estimation (lines 5-13) steps of the Value Iteration algorithm. For the estimation step, use ε = 0.01. For visualization purpose, you should generate a figure similar to that of figure 1 but with the number of state replaced by the optimal value of that state. In this question, you should have 1 plot."
   ]
  },
  {
   "cell_type": "code",
   "execution_count": 38,
   "metadata": {},
   "outputs": [],
   "source": [
    "num_states = 100\n",
    "num_actions = 4\n",
    "w = 0.1\n",
    "gamma = 0.8\n",
    "reward_function = reward_function1"
   ]
  },
  {
   "cell_type": "code",
   "execution_count": 46,
   "metadata": {},
   "outputs": [],
   "source": [
    "def compute_max(row, col, num_actions, w, gamma, V, R):\n",
    "    maximum = -1000000\n",
    "    drow = [0, 0, -1, 1]\n",
    "    dcol = [1, -1, 0, 0]\n",
    "    for a in range(num_actions):       # iterate over each action, right, left, up, down\n",
    "        summ = 0\n",
    "        P = np.zeros((10, 10))\n",
    "        for i in range(4):   # iterate over each s'\n",
    "            rowp = row + drow[i]\n",
    "            colp = col + dcol[i]\n",
    "            \n",
    "            if rowp < 0 or rowp > 9: # row out of bound, stay at current position\n",
    "                rowp = row\n",
    "            if colp < 0 or colp > 9: # column out of bound, stay at current position\n",
    "                colp = col\n",
    "            \n",
    "            P[rowp][colp] = w / 4.0\n",
    "            if i == a:\n",
    "                P[rowp][colp] += 1 - w\n",
    "              \n",
    "            summ += P[rowp][colp] * (R[rowp][colp] + gamma * V[rowp][colp])\n",
    "        \n",
    "        if summ > maximum:\n",
    "            maximum = summ\n",
    "    \n",
    "    return maximum"
   ]
  },
  {
   "cell_type": "code",
   "execution_count": 47,
   "metadata": {},
   "outputs": [],
   "source": [
    "def optimal_state_value(num_states, num_actions, w, gamma, R):\n",
    "    V = np.zeros((10, 10))\n",
    "    \n",
    "    delta = 1\n",
    "    epsilon = 0.01\n",
    "    while delta > epsilon:\n",
    "        delta = 0\n",
    "        for i in range(num_states):\n",
    "            row = i // 10\n",
    "            col = i % 10\n",
    "            v = V[row][col]\n",
    "            V[row][col] = compute_max(row, col, num_actions, w, gamma, V, R)\n",
    "            delta = max(delta, abs(v - V[row][col]))\n",
    "      \n",
    "    return V"
   ]
  },
  {
   "cell_type": "code",
   "execution_count": 48,
   "metadata": {},
   "outputs": [
    {
     "name": "stdout",
     "output_type": "stream",
     "text": [
      "[[0.04179568 0.06283791 0.089742   0.12384898 0.16708096 0.22188288\n",
      "  0.29135376 0.37942014 0.49098293 0.60964773]\n",
      " [0.06283791 0.08787011 0.12155728 0.16451357 0.21924607 0.28898976\n",
      "  0.37787112 0.49106061 0.63321853 0.78735399]\n",
      " [0.089742   0.12155728 0.16438987 0.21913198 0.28890328 0.37782648\n",
      "  0.49115592 0.63549019 0.81735527 1.01859718]\n",
      " [0.12384898 0.16451357 0.21913198 0.28889981 0.37782476 0.49115916\n",
      "  0.6356006  0.81960951 1.05219113 1.31505855]\n",
      " [0.16708096 0.21924607 0.28890328 0.37782476 0.49115918 0.63560325\n",
      "  0.81969511 1.05426506 1.35157155 1.69507283]\n",
      " [0.22188288 0.28898976 0.37782648 0.49115916 0.63560325 0.8196963\n",
      "  1.05432164 1.35332408 1.73318006 2.18223115]\n",
      " [0.29135376 0.37787112 0.49115592 0.6356006  0.81969511 1.05432164\n",
      "  1.35335083 1.73446085 2.21952677 2.80680236]\n",
      " [0.37942014 0.49106061 0.63549019 0.81960951 1.05426506 1.35332408\n",
      "  1.73446085 2.22020148 2.839257   3.60762627]\n",
      " [0.49098293 0.63321853 0.81735527 1.05219113 1.35157155 1.73318006\n",
      "  2.21952677 2.839257   3.62881377 4.63454707]\n",
      " [0.60964773 0.78735399 1.01859718 1.31505855 1.69507283 2.18223115\n",
      "  2.80680236 3.60762627 4.63454707 4.70154001]]\n"
     ]
    }
   ],
   "source": [
    "optimalV = optimal_state_value(num_states, num_actions, w, gamma, reward_function)\n",
    "print(optimalV)"
   ]
  },
  {
   "cell_type": "code",
   "execution_count": 49,
   "metadata": {},
   "outputs": [
    {
     "data": {
      "text/plain": [
       "Text(0.5, 1.0, 'heat map for optimal value using reward function 1')"
      ]
     },
     "execution_count": 49,
     "metadata": {},
     "output_type": "execute_result"
    },
    {
     "data": {
      "image/png": "[encoded data removed]",
      "text/plain": [
       "<Figure size 432x288 with 2 Axes>"
      ]
     },
     "metadata": {
      "needs_background": "light"
     },
     "output_type": "display_data"
    }
   ],
   "source": [
    "fig = plt.figure()\n",
    "ax = fig.add_subplot(1,1,1)\n",
    "plt.pcolor(optimalV)\n",
    "plt.gca().invert_yaxis()\n",
    "plt.colorbar()\n",
    "ax.set_title(\"heat map for optimal value using reward function 1\")"
   ]
  },
  {
   "cell_type": "code",
   "execution_count": null,
   "metadata": {},
   "outputs": [],
   "source": []
  }
 ],
 "metadata": {
  "kernelspec": {
   "display_name": "Python 3",
   "language": "python",
   "name": "python3"
  },
  "language_info": {
   "codemirror_mode": {
    "name": "ipython",
    "version": 3
   },
   "file_extension": ".py",
   "mimetype": "text/x-python",
   "name": "python",
   "nbconvert_exporter": "python",
   "pygments_lexer": "ipython3",
   "version": "3.7.1"
  }
 },
 "nbformat": 4,
 "nbformat_minor": 2
}
